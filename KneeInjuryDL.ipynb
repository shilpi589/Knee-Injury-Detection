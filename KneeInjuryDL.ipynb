{
  "nbformat": 4,
  "nbformat_minor": 0,
  "metadata": {
    "colab": {
      "provenance": []
    },
    "kernelspec": {
      "name": "python3",
      "display_name": "Python 3"
    },
    "language_info": {
      "name": "python"
    }
  },
  "cells": [
    {
      "cell_type": "code",
      "execution_count": null,
      "metadata": {
        "id": "v1Cg2qfQ7srf"
      },
      "outputs": [],
      "source": [
        "from google.colab import drive\n",
        "drive.mount('/content/gdrive/', force_remount=True)"
      ]
    },
    {
      "cell_type": "code",
      "source": [
        "!ls /content/gdrive/MyDrive/Dataset/MRNet-v1.0  # Replace with your actual directory path"
      ],
      "metadata": {
        "id": "Unri0tma8AIB"
      },
      "execution_count": null,
      "outputs": []
    },
    {
      "cell_type": "code",
      "source": [
        "import numpy as np\n",
        "import pandas as pd\n",
        "import os\n",
        "import tensorflow as tf\n",
        "from sklearn.model_selection import train_test_split"
      ],
      "metadata": {
        "id": "oQLJAITS72ag"
      },
      "execution_count": null,
      "outputs": []
    },
    {
      "cell_type": "code",
      "source": [
        "# Define the function to load data\n",
        "def load_data(folder_path):\n",
        " data = []\n",
        " for filename in os.listdir(folder_path):\n",
        "  if filename.endswith(\".npy\"):\n",
        "    file_path = os.path.join(folder_path, filename)\n",
        "    loaded_data = np.load(file_path, allow_pickle=True)\n",
        "    data.append(loaded_data[0])\n",
        " data = np.array(data)\n",
        " return data"
      ],
      "metadata": {
        "id": "QopmvN0w7-5Q"
      },
      "execution_count": null,
      "outputs": []
    },
    {
      "cell_type": "code",
      "source": [
        "axial_data = load_data(\"/content/gdrive/MyDrive/Dataset/MRNet-v1.0/train/axial\")\n",
        "coronal_data = load_data(\"/content/gdrive/MyDrive/Dataset/MRNet-v1.0/train/coronal\")\n",
        "sagittal_data = load_data(\"/content/gdrive/MyDrive/Dataset/MRNet-v1.0/train/sagittal\")\n",
        "print(axial_data.shape)\n"
      ],
      "metadata": {
        "id": "koz1hVKF7-1u"
      },
      "execution_count": null,
      "outputs": []
    },
    {
      "cell_type": "code",
      "source": [
        "# Flatten the data\n",
        "axial_flat = axial_data.reshape(axial_data.shape[0], axial_data.shape[1], axial_data.shape[2], 1)\n",
        "coronal_flat = coronal_data.reshape(coronal_data.shape[0], coronal_data.shape[1], coronal_data.shape[2], 1)\n",
        "sagittal_flat = sagittal_data.reshape(sagittal_data.shape[0], sagittal_data.shape[1], sagittal_data.shape[2], 1)"
      ],
      "metadata": {
        "id": "tSgD5x7N7-y0"
      },
      "execution_count": null,
      "outputs": []
    },
    {
      "cell_type": "code",
      "source": [
        "# Load labels\n",
        "acl_annotation = pd.read_csv(\"/content/gdrive/MyDrive/Dataset/MRNet-v1.0/train-acl.csv\", header=None)\n",
        "acl_label = acl_annotation.iloc[:, 1].values\n",
        "print(acl_label.shape)\n",
        "abnormal_annotation = pd.read_csv(\"/content/gdrive/MyDrive/Dataset/MRNet-v1.0/train-abnormal.csv\", header=None)\n",
        "abnormal_label = abnormal_annotation.iloc[:, 1].values\n",
        "meniscus_annotation = pd.read_csv(\"/content/gdrive/MyDrive/Dataset/MRNet-v1.0/train-meniscus.csv\", header=None)\n",
        "meniscus_label = meniscus_annotation.iloc[:, 1].values"
      ],
      "metadata": {
        "id": "tEMmtCKU7-wA"
      },
      "execution_count": null,
      "outputs": []
    },
    {
      "cell_type": "code",
      "source": [
        "axial_test_data = load_data(\"/content/gdrive/MyDrive/Dataset/MRNet-v1.0/valid/axial\")\n",
        "coronal_test_data = load_data(\"/content/gdrive/MyDrive/Dataset/MRNet-v1.0/valid/coronal\")\n",
        "sagittal_test_data = load_data(\"/content/gdrive/MyDrive/Dataset/MRNet-v1.0/valid/sagittal\")\n"
      ],
      "metadata": {
        "id": "1uLFJe8Z7-tL"
      },
      "execution_count": null,
      "outputs": []
    },
    {
      "cell_type": "code",
      "source": [
        "#Flatten the test data\n",
        "axial_test_flat = axial_test_data.reshape(axial_test_data.shape[0], axial_test_data.shape[1], axial_test_data.shape[2], -1)\n",
        "coronal_test_flat = coronal_test_data.reshape(coronal_test_data.shape[0], coronal_test_data.shape[1], coronal_test_data.shape[2], -1)\n",
        "sagittal_test_flat = sagittal_test_data.reshape(sagittal_test_data.shape[0], sagittal_test_data.shape[1], sagittal_test_data.shape[2], -1)"
      ],
      "metadata": {
        "id": "0mbLHcjz7-qJ"
      },
      "execution_count": null,
      "outputs": []
    },
    {
      "cell_type": "code",
      "source": [
        "# Load test labels\n",
        "acl_test_annotation = pd.read_csv(\"/content/gdrive/MyDrive/Dataset/MRNet-v1.0/valid-acl.csv\",header=None)\n",
        "acl_test_label = acl_test_annotation.iloc[:, 1].values\n",
        "abnormal_test_annotation = pd.read_csv(\"/content/gdrive/MyDrive/Dataset/MRNet-v1.0/valid-abnormal.csv\",header=None)\n",
        "abnormal_test_label = abnormal_test_annotation.iloc[:, 1].values\n",
        "meniscus_test_annotation = pd.read_csv(\"/content/gdrive/MyDrive/Dataset/MRNet-v1.0/valid-meniscus.csv\",header=None)\n",
        "meniscus_test_label = meniscus_test_annotation.iloc[:, 1].values"
      ],
      "metadata": {
        "id": "PoSRF-d47-nV"
      },
      "execution_count": null,
      "outputs": []
    },
    {
      "cell_type": "code",
      "source": [
        "# Combine ABNORMAL data from different planes\n",
        "X_train_ABNORMAL = np.concatenate((axial_flat, coronal_flat, sagittal_flat))\n",
        "X_test_ABNORMAL = np.concatenate((axial_test_flat, coronal_test_flat, sagittal_test_flat))\n"
      ],
      "metadata": {
        "id": "oRsBIuoN7-kb"
      },
      "execution_count": null,
      "outputs": []
    },
    {
      "cell_type": "code",
      "source": [
        "# Define the CNN model\n",
        "model = tf.keras.Sequential([\n",
        " tf.keras.layers.Conv2D(32, (3, 3), activation='relu', input_shape=(256, 256, 1)),\n",
        " tf.keras.layers.MaxPooling2D((2, 2)),\n",
        " tf.keras.layers.Conv2D(64, (3, 3), activation='relu'),\n",
        " tf.keras.layers.MaxPooling2D((2, 2)),\n",
        " tf.keras.layers.Conv2D(128, (3, 3), activation='relu'),\n",
        " tf.keras.layers.MaxPooling2D((2, 2)),\n",
        " tf.keras.layers.Conv2D(128, (3, 3), activation='relu'),\n",
        " tf.keras.layers.MaxPooling2D((2, 2)),\n",
        " tf.keras.layers.Flatten(),\n",
        " tf.keras.layers.Dense(512, activation='relu'),\n",
        " tf.keras.layers.Dropout(0.5),\n",
        " tf.keras.layers.Dense(1, activation='sigmoid')\n",
        "])\n"
      ],
      "metadata": {
        "id": "btdCdxne7-hl"
      },
      "execution_count": null,
      "outputs": []
    },
    {
      "cell_type": "code",
      "source": [
        "# Compile the model\n",
        "model.compile(optimizer='adam', loss='binary_crossentropy', metrics=['accuracy'])\n",
        "# Train the model\n",
        "model.fit(X_train_abnormal, abnormal_label, epochs=10, batch_size=32, validation_split=0.2)"
      ],
      "metadata": {
        "id": "TW9OYx4j7-er"
      },
      "execution_count": null,
      "outputs": []
    },
    {
      "cell_type": "code",
      "source": [
        "# Evaluate the model on test data\n",
        "loss, accuracy = model.evaluate(X_test_ABNORMAL, abnormal_test_label)\n",
        "print(\"Test Accuracy:\", accuracy)"
      ],
      "metadata": {
        "id": "WIangZV-7-b2"
      },
      "execution_count": null,
      "outputs": []
    },
    {
      "cell_type": "code",
      "source": [
        "from sklearn.metrics import confusion_matrix\n",
        "import seaborn as sns\n",
        "import matplotlib.pyplot as plt\n",
        "# Predict labels for test data\n",
        "predictions = model.predict(X_test_ABNORMAL)\n",
        "predicted_labels = (predictions > 0.5).astype(int)\n",
        "# Generate confusion matrix\n",
        "conf_matrix = confusion_matrix(abnormal_test_label, predicted_labels)\n",
        "# Plot confusion matrix\n",
        "plt.figure(figsize=(8, 6))\n",
        "sns.heatmap(conf_matrix, annot=True, fmt='d', cmap='Blues', cbar=False,\n",
        " xticklabels=['No Abnormality', 'Abnormality'],\n",
        " yticklabels=['No Abnormality', 'Abnormality'])\n",
        "plt.title('Confusion Matrix')\n",
        "plt.xlabel('Predicted')\n",
        "plt.ylabel('Actual')\n",
        "plt.show()\n"
      ],
      "metadata": {
        "id": "Gris6LHv7-Y8"
      },
      "execution_count": null,
      "outputs": []
    },
    {
      "cell_type": "code",
      "source": [
        "# Combine ACL data from different planes\n",
        "X_train_ACL = np.concatenate([axial_flat, coronal_flat, sagittal_flat])\n",
        "X_test_ACL = np.concatenate([axial_test_flat, coronal_test_flat, sagittal_test_flat])\n"
      ],
      "metadata": {
        "id": "UDeeYZUO7-Vl"
      },
      "execution_count": null,
      "outputs": []
    },
    {
      "cell_type": "code",
      "source": [
        "# Define the CNN model\n",
        "model = tf.keras.Sequential([\n",
        " tf.keras.layers.Conv2D(32, (3, 3), activation='relu', input_shape=(256, 256, 1)),\n",
        " tf.keras.layers.MaxPooling2D((2, 2)),\n",
        " tf.keras.layers.Conv2D(64, (3, 3), activation='relu'),\n",
        " tf.keras.layers.MaxPooling2D((2, 2)),\n",
        " tf.keras.layers.Conv2D(128, (3, 3), activation='relu'),\n",
        " tf.keras.layers.MaxPooling2D((2, 2)),\n",
        " tf.keras.layers.Conv2D(128, (3, 3), activation='relu'),\n",
        " tf.keras.layers.MaxPooling2D((2, 2)),\n",
        " tf.keras.layers.Flatten(),\n",
        " tf.keras.layers.Dense(512, activation='relu'),\n",
        " tf.keras.layers.Dropout(0.5),\n",
        " tf.keras.layers.Dense(1, activation='sigmoid')\n",
        "])"
      ],
      "metadata": {
        "id": "KyBg9i9t7-LN"
      },
      "execution_count": null,
      "outputs": []
    },
    {
      "cell_type": "code",
      "source": [
        "# Compile the model\n",
        "model.compile(optimizer='adam', loss='binary_crossentropy', metrics=['accuracy'])\n",
        "# Train the model\n",
        "model.fit(X_train_ACL, acl_label, epochs=10, batch_size=32, validation_split=0.2)\n"
      ],
      "metadata": {
        "id": "l41WPoT18jHw"
      },
      "execution_count": null,
      "outputs": []
    },
    {
      "cell_type": "code",
      "source": [
        "# Evaluate the model on test data\n",
        "loss, accuracy = model.evaluate(X_test_ACL, acl_test_label)\n",
        "print(\"Test Accuracy:\", accuracy)"
      ],
      "metadata": {
        "id": "SH5LizLC8kl3"
      },
      "execution_count": null,
      "outputs": []
    },
    {
      "cell_type": "code",
      "source": [
        "from sklearn.metrics import confusion_matrix\n",
        "import seaborn as sns\n",
        "import matplotlib.pyplot as plt\n",
        "# Predict labels for test data\n",
        "predictions = model.predict(X_test_ACL)\n",
        "predicted_labels = (predictions > 0.5).astype(int)\n",
        "# Generate confusion matrix\n",
        "conf_matrix = confusion_matrix(acl_test_label, predicted_labels)\n",
        "# Plot confusion matrix\n",
        "plt.figure(figsize=(8, 6))\n",
        "sns.heatmap(conf_matrix, annot=True, fmt='d', cmap='Blues', cbar=False,\n",
        " xticklabels=['No Abnormality', 'ACL'],\n",
        " yticklabels=['No Abnormality', 'ACL'])\n",
        "plt.title('Confusion Matrix')\n",
        "plt.xlabel('Predicted')\n",
        "plt.ylabel('Actual')\n",
        "plt.show()"
      ],
      "metadata": {
        "id": "SMthuxSa8l4K"
      },
      "execution_count": null,
      "outputs": []
    },
    {
      "cell_type": "code",
      "source": [
        "#combine MENISCUS data from different planes\n",
        "X_train_MENISCUS = [axial_flat, coronal_flat, sagittal_flat]\n",
        "X_test_MENISCUS = [axial_test_flat, coronal_test_flat, sagittal_test_flat]\n"
      ],
      "metadata": {
        "id": "hobdsQz48nl4"
      },
      "execution_count": null,
      "outputs": []
    },
    {
      "cell_type": "code",
      "source": [
        "# Define the CNN model\n",
        "model = tf.keras.Sequential([\n",
        " tf.keras.layers.Conv2D(32, (3, 3), activation='relu', input_shape=(256, 256, 1)),\n",
        " tf.keras.layers.MaxPooling2D((2, 2)),\n",
        " tf.keras.layers.Conv2D(64, (3, 3), activation='relu'),\n",
        " tf.keras.layers.MaxPooling2D((2, 2)),\n",
        " tf.keras.layers.Conv2D(128, (3, 3), activation='relu'),\n",
        " tf.keras.layers.MaxPooling2D((2, 2)),\n",
        " tf.keras.layers.Conv2D(128, (3, 3), activation='relu'),\n",
        " tf.keras.layers.MaxPooling2D((2, 2)),\n",
        " tf.keras.layers.Flatten(),\n",
        " tf.keras.layers.Dense(512, activation='relu'),\n",
        " tf.keras.layers.Dropout(0.5),\n",
        " tf.keras.layers.Dense(1, activation='sigmoid')\n",
        "])\n"
      ],
      "metadata": {
        "id": "vFTOml3m8o6p"
      },
      "execution_count": null,
      "outputs": []
    },
    {
      "cell_type": "code",
      "source": [
        "# Compile the model\n",
        "model.compile(optimizer='adam', loss='binary_crossentropy', metrics=['accuracy'])\n",
        "# Train the model\n",
        "model.fit(X_train_MENISCUS, meniscus_label, epochs=10, batch_size=32, validation_split=0.2)"
      ],
      "metadata": {
        "id": "nxsN-jzg8qOL"
      },
      "execution_count": null,
      "outputs": []
    },
    {
      "cell_type": "code",
      "source": [
        "# Evaluate the model on test data\n",
        "loss, accuracy = model.evaluate(X_test_MENISCUS, meniscus_test_label)\n",
        "print(\"Test Accuracy:\", accuracy)"
      ],
      "metadata": {
        "id": "TOtlObGB8rwv"
      },
      "execution_count": null,
      "outputs": []
    },
    {
      "cell_type": "code",
      "source": [
        "from sklearn.metrics import confusion_matrix\n",
        "import seaborn as sns\n",
        "import matplotlib.pyplot as plt\n",
        "# Predict labels for test data\n",
        "predictions = model.predict(X_test_MENISCUS)\n",
        "predicted_labels = (predictions > 0.5).astype(int)\n",
        "# Generate confusion matrix\n",
        "conf_matrix = confusion_matrix(meniscus_test_label, predicted_labels)\n",
        "# Plot confusion matrix\n",
        "plt.figure(figsize=(8, 6))\n",
        "sns.heatmap(conf_matrix, annot=True, fmt='d', cmap='Blues', cbar=False,\n",
        " xticklabels=['No Abnormality', 'Abnormality'],\n",
        " yticklabels=['No Abnormality', 'Abnormality'])\n",
        "plt.title('Confusion Matrix')\n",
        "plt.xlabel('Predicted')\n",
        "plt.ylabel("
      ],
      "metadata": {
        "id": "_nHd01kY8s48"
      },
      "execution_count": null,
      "outputs": []
    }
  ]
}